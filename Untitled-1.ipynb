{
 "cells": [
  {
   "cell_type": "markdown",
   "metadata": {},
   "source": [
    "# Membuat Tabel Pivot"
   ]
  },
  {
   "cell_type": "code",
   "execution_count": null,
   "metadata": {},
   "outputs": [
    {
     "data": {
      "text/plain": [
       "Barang       Anggur   Apel   Duku  Jambu  Pisang\n",
       "Tanggal                                         \n",
       "2022-01-01    100.0  200.0    NaN    NaN     NaN\n",
       "2022-01-012     NaN    NaN    NaN    NaN   250.0\n",
       "2022-01-02      NaN    NaN    NaN  150.0     NaN\n",
       "2022-01-03      NaN    NaN  180.0    NaN     NaN\n"
      ]
     },
     "metadata": {},
     "output_type": "display_data"
    }
   ],
   "source": [
    "import pandas as pd\n",
    "\n",
    "# example data\n",
    "data = {\n",
    "  \"Tanggal\": [\"2022-01-01\", \"2022-01-01\", \"2022-01-02\", \"2022-01-012\", \"2022-01-03\"],\n",
    "  \"Barang\": [\"Anggur\", \"Apel\", \"Jambu\", \"Pisang\", \"Duku\"],\n",
    "  \"Penjualan\": [100, 200, 150, 250, 180]\n",
    "}\n",
    "\n",
    "df = pd.DataFrame(data)\n",
    "\n",
    "# pivot table\n",
    "pivot_table = pd.pivot_table(df, values=\"Penjualan\", index=\"Tanggal\", columns=\"Barang\", aggfunc=\"sum\")\n",
    "\n",
    "print(pivot_table)"
   ]
  }
 ],
 "metadata": {
  "language_info": {
   "name": "python"
  }
 },
 "nbformat": 4,
 "nbformat_minor": 2
}
